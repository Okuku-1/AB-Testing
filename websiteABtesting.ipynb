{
 "cells": [
  {
   "cell_type": "markdown",
   "metadata": {},
   "source": [
    "## Website A/B Testing\n",
    "The goal of this analysis is to determine whether an experimental homepage design is more effective than the existing control homepage in driving user engagement, as measured by the click-through rate. We will conduct an exploratory data analysis to clean and understand the dataset, followed by a statistical test to evaluate the difference in conversion rates between the two groups."
   ]
  },
  {
   "cell_type": "code",
   "execution_count": 11,
   "metadata": {},
   "outputs": [],
   "source": [
    "#loading required packages\n",
    "import numpy as np \n",
    "import pandas as pd \n",
    "import matplotlib.pyplot as plt \n",
    "import seaborn as sns\n",
    "from statsmodels.stats.proportion import proportions_ztest"
   ]
  },
  {
   "cell_type": "code",
   "execution_count": 2,
   "metadata": {},
   "outputs": [
    {
     "data": {
      "text/html": [
       "<div>\n",
       "<style scoped>\n",
       "    .dataframe tbody tr th:only-of-type {\n",
       "        vertical-align: middle;\n",
       "    }\n",
       "\n",
       "    .dataframe tbody tr th {\n",
       "        vertical-align: top;\n",
       "    }\n",
       "\n",
       "    .dataframe thead th {\n",
       "        text-align: right;\n",
       "    }\n",
       "</style>\n",
       "<table border=\"1\" class=\"dataframe\">\n",
       "  <thead>\n",
       "    <tr style=\"text-align: right;\">\n",
       "      <th></th>\n",
       "      <th>timestamp</th>\n",
       "      <th>id</th>\n",
       "      <th>group</th>\n",
       "      <th>action</th>\n",
       "    </tr>\n",
       "  </thead>\n",
       "  <tbody>\n",
       "    <tr>\n",
       "      <th>0</th>\n",
       "      <td>2016-09-24 17:42:27.839496</td>\n",
       "      <td>804196</td>\n",
       "      <td>experiment</td>\n",
       "      <td>view</td>\n",
       "    </tr>\n",
       "    <tr>\n",
       "      <th>1</th>\n",
       "      <td>2016-09-24 19:19:03.542569</td>\n",
       "      <td>434745</td>\n",
       "      <td>experiment</td>\n",
       "      <td>view</td>\n",
       "    </tr>\n",
       "    <tr>\n",
       "      <th>2</th>\n",
       "      <td>2016-09-24 19:36:00.944135</td>\n",
       "      <td>507599</td>\n",
       "      <td>experiment</td>\n",
       "      <td>view</td>\n",
       "    </tr>\n",
       "    <tr>\n",
       "      <th>3</th>\n",
       "      <td>2016-09-24 19:59:02.646620</td>\n",
       "      <td>671993</td>\n",
       "      <td>control</td>\n",
       "      <td>view</td>\n",
       "    </tr>\n",
       "    <tr>\n",
       "      <th>4</th>\n",
       "      <td>2016-09-24 20:26:14.466886</td>\n",
       "      <td>536734</td>\n",
       "      <td>experiment</td>\n",
       "      <td>view</td>\n",
       "    </tr>\n",
       "  </tbody>\n",
       "</table>\n",
       "</div>"
      ],
      "text/plain": [
       "                    timestamp      id       group action\n",
       "0  2016-09-24 17:42:27.839496  804196  experiment   view\n",
       "1  2016-09-24 19:19:03.542569  434745  experiment   view\n",
       "2  2016-09-24 19:36:00.944135  507599  experiment   view\n",
       "3  2016-09-24 19:59:02.646620  671993     control   view\n",
       "4  2016-09-24 20:26:14.466886  536734  experiment   view"
      ]
     },
     "execution_count": 2,
     "metadata": {},
     "output_type": "execute_result"
    }
   ],
   "source": [
    "#loading dataset\n",
    "homepage = pd.read_csv(\"D:\\Programming\\Datasets\\homepage_actions.csv\")\n",
    "homepage.head()"
   ]
  },
  {
   "cell_type": "markdown",
   "metadata": {},
   "source": [
    "### Exploratory Analysis\n",
    "\n",
    "#### 1. Investigating the id column\n"
   ]
  },
  {
   "cell_type": "code",
   "execution_count": 5,
   "metadata": {},
   "outputs": [
    {
     "name": "stdout",
     "output_type": "stream",
     "text": [
      "Total unique viewers: 6328\n"
     ]
    }
   ],
   "source": [
    "#Number of unique ids\n",
    "total_viewers = homepage[\"id\"].nunique()\n",
    "print(f\"Total unique viewers: {total_viewers}\")"
   ]
  },
  {
   "cell_type": "code",
   "execution_count": 6,
   "metadata": {},
   "outputs": [
    {
     "name": "stdout",
     "output_type": "stream",
     "text": [
      "Total unique viewers who clicked: 1860\n"
     ]
    }
   ],
   "source": [
    "# Number of unique users who clicked\n",
    "clicked_viewers = homepage[homepage[\"action\"] == \"click\"][\"id\"].nunique()\n",
    "print(f\"Total unique viewers who clicked: {clicked_viewers}\")"
   ]
  },
  {
   "cell_type": "code",
   "execution_count": 8,
   "metadata": {},
   "outputs": [
    {
     "name": "stdout",
     "output_type": "stream",
     "text": [
      "Id's that clicked but did not view: set()\n"
     ]
    }
   ],
   "source": [
    "#Checking for anomalies: Ids who clicked but did not view\n",
    "viewed_id = set(homepage[homepage[\"action\"] == \"view\"][\"id\"])\n",
    "clicked_id = set(homepage[homepage[\"action\"] == \"click\"][\"id\"])\n",
    "\n",
    "#ids that cliked but did not view\n",
    "anomalies = clicked_id - viewed_id\n",
    "\n",
    "print(f\"Id's that clicked but did not view: {anomalies}\")\n"
   ]
  },
  {
   "cell_type": "markdown",
   "metadata": {},
   "source": [
    "#### 2. Check for overlap between control and experiment groups"
   ]
  },
  {
   "cell_type": "code",
   "execution_count": 9,
   "metadata": {},
   "outputs": [
    {
     "name": "stdout",
     "output_type": "stream",
     "text": [
      "Number of overlap between control and experiment group: set()\n"
     ]
    }
   ],
   "source": [
    "#Checking for overlap between control and experiment group\n",
    "control_id = set(homepage[homepage[\"group\"] == \"control\"][\"id\"])\n",
    "experiment_id = set(homepage[homepage[\"group\"] == \"experiment\"][\"id\"])\n",
    "\n",
    "#Finding overlaping ids\n",
    "overlap_ids = control_id & experiment_id\n",
    "\n",
    "print(f\"Number of overlap between control and experiment group: {overlap_ids}\")"
   ]
  },
  {
   "cell_type": "markdown",
   "metadata": {},
   "source": [
    "## Conducting a Statistical Test\n",
    "\n",
    "#### 1. Defining the hypothesis"
   ]
  },
  {
   "cell_type": "markdown",
   "metadata": {},
   "source": [
    "- Null hypothesis($\\text{H}_0$): The conversion rate of the experiment group is equal to control group\n",
    "- Alternative hypothesis($\\text{H}_a$): The conversion rate of experiment group is different from control group"
   ]
  },
  {
   "cell_type": "markdown",
   "metadata": {},
   "source": [
    "#### 2. Calculate Conversion Rates"
   ]
  },
  {
   "cell_type": "code",
   "execution_count": 12,
   "metadata": {},
   "outputs": [
    {
     "name": "stdout",
     "output_type": "stream",
     "text": [
      "Control Conversion Rate: 0.2797\n",
      "Experiment Conversion Rate: 0.3097\n"
     ]
    }
   ],
   "source": [
    "#Grouping data to calculate clicks and views for control and experiment\n",
    "grouped_data = homepage.groupby([\"group\", \"action\"]).size().unstack()\n",
    "\n",
    "#views and clicks for each group\n",
    "view_control = grouped_data.loc[\"control\", \"view\"]\n",
    "click_control = grouped_data.loc[\"control\", \"click\"]\n",
    "\n",
    "view_experiement = grouped_data.loc[\"experiment\", \"view\"]\n",
    "click_experiment = grouped_data.loc[\"experiment\", \"click\"]\n",
    "\n",
    "\n",
    "#The conversion rates\n",
    "conversion_control = click_control / view_control\n",
    "conversion_experiment = click_experiment / view_experiement\n",
    "\n",
    "print(f\"Control Conversion Rate: {conversion_control:.4f}\")\n",
    "print(f\"Experiment Conversion Rate: {conversion_experiment:.4f}\")"
   ]
  },
  {
   "cell_type": "markdown",
   "metadata": {},
   "source": [
    "#### 3. Conduct Two-Proportion Z-Test"
   ]
  },
  {
   "cell_type": "code",
   "execution_count": 14,
   "metadata": {},
   "outputs": [
    {
     "name": "stdout",
     "output_type": "stream",
     "text": [
      "Z-statistic: -2.6186\n",
      "P-value: 0.0088\n"
     ]
    }
   ],
   "source": [
    "#success (clicks) and trial (views) for both groups\n",
    "success = [click_control, click_experiment]\n",
    "trial = [view_control, view_experiement]\n",
    "\n",
    "#performing a two-proportion z-test\n",
    "z_stat, p_value = proportions_ztest(success, trial)\n",
    "\n",
    "print(f\"Z-statistic: {z_stat:.4f}\")\n",
    "print(f\"P-value: {p_value:.4f}\")"
   ]
  },
  {
   "cell_type": "markdown",
   "metadata": {},
   "source": [
    "#### Interpreting the result\n",
    "- P_value (0.0088) < 0.05, Therefore we reject the null hypothesis and conclude that the new homepage as a significant higher conversion rate.\n",
    "- The experimental group has a higher conversion rate (30.97%) than control group conversion rate(27.97%) suggesting that experimental homepage is more effective at driving user engagement(clicks) than original homepage\n",
    "\n"
   ]
  },
  {
   "cell_type": "markdown",
   "metadata": {},
   "source": []
  }
 ],
 "metadata": {
  "kernelspec": {
   "display_name": "Python 3",
   "language": "python",
   "name": "python3"
  },
  "language_info": {
   "codemirror_mode": {
    "name": "ipython",
    "version": 3
   },
   "file_extension": ".py",
   "mimetype": "text/x-python",
   "name": "python",
   "nbconvert_exporter": "python",
   "pygments_lexer": "ipython3",
   "version": "3.11.7"
  }
 },
 "nbformat": 4,
 "nbformat_minor": 2
}
